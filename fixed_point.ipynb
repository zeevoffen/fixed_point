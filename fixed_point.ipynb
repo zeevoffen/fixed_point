{
 "cells": [
  {
   "cell_type": "code",
   "execution_count": 41,
   "metadata": {},
   "outputs": [],
   "source": [
    "class FixedPoint:\n",
    "\n",
    "    def check_value_range(self,value):\n",
    "        if value > self.max_value or value < self.min_value:\n",
    "            raise ValueError(f\"Value {value} cannot be represented with precision {self.precision} max_val:{self.max_value} min_val:{self.min_value}\")\n",
    "\n",
    "    def recompute_value_according_to_precision(self,value):\n",
    "        self.check_value_range(value)\n",
    "        int_bits, frac_bits = self.precision\n",
    "        scale = 2 ** frac_bits\n",
    "        scaled_value = int(value * scale)\n",
    "        rounded_value = round(scaled_value)\n",
    "        return rounded_value / scale\n",
    "\n",
    "    def __init__(self, value, precision,signed=True):\n",
    "        sub1 = 1 if signed else 0\n",
    "        self.max_value = (2**(precision[0]+precision[1] - sub1)-1) / 2**(precision[1])\n",
    "        self.min_value = 0 if not signed else -self.max_value\n",
    "        self.signed = signed\n",
    "        self.precision = precision\n",
    "        self.value = self.recompute_value_according_to_precision(value)\n",
    "    \n",
    "    def __str__(self):\n",
    "        sign = \"-\" if self.value < 0 else \"\"\n",
    "        signed = \"SIGNED\" if self.signed else \"UNSIGNED\"\n",
    "        int_part = abs(int(self.value))\n",
    "        frac_part = abs(self.value) - int_part\n",
    "        int_str = bin(int_part)[2:].zfill(self.precision[0])\n",
    "        frac_str = \"\"\n",
    "        for _ in range(self.precision[1]):\n",
    "            frac_part *= 2\n",
    "            bit = int(frac_part)\n",
    "            frac_str += str(bit)\n",
    "            frac_part -= bit\n",
    "        return f\"signed {sign}{int_str}.{frac_str} value:{self.value} max_val:{self.max_value} min_val:{self.min_value}\"\n",
    "\n",
    "    def __repr__(self):\n",
    "        return f'FixedPoint({self.value}, {self.precision}) {self.__str__()}'\n",
    "\n",
    "    \n",
    "    def __add__(self, other):\n",
    "        if not isinstance(other, FixedPoint):\n",
    "            raise TypeError('unsupported operand type(s) for +: \\'FixedPoint\\' and \\'' + type(other).__name__ + '\\'')\n",
    "        if self.precision != other.precision:\n",
    "            raise ValueError('operands have different precision')\n",
    "        return FixedPoint(self.value + other.value, self.precision)\n",
    "    \n",
    "    def __sub__(self, other):\n",
    "        if not isinstance(other, FixedPoint):\n",
    "            raise TypeError('unsupported operand type(s) for -: \\'FixedPoint\\' and \\'' + type(other).__name__ + '\\'')\n",
    "        if self.precision != other.precision:\n",
    "            raise ValueError('operands have different precision')\n",
    "        return FixedPoint(self.value - other.value, self.precision)\n",
    "    \n",
    "    def __mul__(self, other):\n",
    "        if isinstance(other, (int, float)):\n",
    "            return FixedPoint(self.value * other, self.precision)\n",
    "        elif isinstance(other, FixedPoint):\n",
    "            return FixedPoint((self.value*other.value), (self.precision[0] + other.precision[0],self.precision[1] + other.precision[1]))\n",
    "        else:\n",
    "            raise TypeError('unsupported operand type(s) for *: \\'FixedPoint\\' and \\'' + type(other).__name__ + '\\'')\n",
    "    \n",
    "    def __truediv__(self, other):\n",
    "        if isinstance(other, (int, float)):\n",
    "            return FixedPoint(self.value / other, self.precision)\n",
    "        if isinstance(other, FixedPoint):\n",
    "            return FixedPoint((self.value/other.value), (other.precision[0],self.precision[1] - other.precision[1]))\n",
    "        else: \n",
    "            raise TypeError('unsupported operand type(s) for /: \\'FixedPoint\\' and \\'' + type(other).__name__ + '\\'')\n",
    "    def __rmul__(self, other):\n",
    "        if not isinstance(other, (int, float)):\n",
    "            raise TypeError('unsupported operand type(s) for *: \\'' + type(other).__name__ + '\\' and \\'FixedPoint\\'')\n",
    "        return FixedPoint(self.value * other, self.precision)\n",
    "    \n",
    "    def __eq__(self, other):\n",
    "        if not isinstance(other, FixedPoint):\n",
    "            return False\n",
    "        return self.value == other.value and self.precision == other.precision\n",
    "    \n",
    "    def __ne__(self, other):\n",
    "        return not self.__eq__(other)\n"
   ]
  },
  {
   "cell_type": "code",
   "execution_count": 51,
   "metadata": {},
   "outputs": [
    {
     "name": "stdout",
     "output_type": "stream",
     "text": [
      "signed 00000000.11001100 value:0.796875 max_val:127.99609375 min_val:-127.99609375 signed 00000000.00010100 value:0.078125 max_val:127.99609375 min_val:-127.99609375\n",
      "signed 00000000.11001100 value:0.796875 max_val:127.99609375 min_val:-127.99609375 signed 00000000.00010100 value:0.078125 max_val:127.99609375 min_val:-127.99609375 signed 00001010. value:10.0 max_val:127.0 min_val:-127.0\n"
     ]
    }
   ],
   "source": [
    "a = FixedPoint(0.8, (8, 8))\n",
    "b = FixedPoint(0.08, (8, 8))\n",
    "print(a,b)\n",
    "c = a / b\n",
    "print(a,b,c)\n",
    "#print (a/2)"
   ]
  },
  {
   "cell_type": "code",
   "execution_count": 48,
   "metadata": {},
   "outputs": [
    {
     "data": {
      "text/plain": [
       "'0b0'"
      ]
     },
     "execution_count": 48,
     "metadata": {},
     "output_type": "execute_result"
    }
   ],
   "source": [
    "bin(int(0.05*(2**4)))\n"
   ]
  },
  {
   "cell_type": "code",
   "execution_count": 33,
   "metadata": {},
   "outputs": [
    {
     "name": "stdout",
     "output_type": "stream",
     "text": [
      "(1, 2, 3, 4)\n"
     ]
    }
   ],
   "source": [
    "q=(1,2)\n",
    "d=(3,4)\n",
    "print(q+d)"
   ]
  },
  {
   "cell_type": "code",
   "execution_count": 37,
   "metadata": {},
   "outputs": [
    {
     "name": "stderr",
     "output_type": "stream",
     "text": [
      "FF.F."
     ]
    },
    {
     "name": "stdout",
     "output_type": "stream",
     "text": [
      "<unittest.runner.TextTestResult run=5 errors=0 failures=3>\n"
     ]
    },
    {
     "name": "stderr",
     "output_type": "stream",
     "text": [
      "\n",
      "======================================================================\n",
      "FAIL: test_division (__main__.TestFixedPoint)\n",
      "----------------------------------------------------------------------\n",
      "Traceback (most recent call last):\n",
      "  File \"<ipython-input-37-548b8e48a80c>\", line 23, in test_division\n",
      "    self.assertEqual(c.value, -0.6666666666666666)\n",
      "AssertionError: 0.0 != -0.6666666666666666\n",
      "\n",
      "======================================================================\n",
      "FAIL: test_equal (__main__.TestFixedPoint)\n",
      "----------------------------------------------------------------------\n",
      "Traceback (most recent call last):\n",
      "  File \"<ipython-input-37-548b8e48a80c>\", line 31, in test_equal\n",
      "    self.assertNotEqual(a, c)\n",
      "AssertionError: FixedPoint(0.5, (3, 3)) signed 000.100 max_val:3.875 min_val:-3.875 == FixedPoint(0.5, (3, 3)) signed 000.100 max_val:3.875 min_val:-3.875\n",
      "\n",
      "======================================================================\n",
      "FAIL: test_str (__main__.TestFixedPoint)\n",
      "----------------------------------------------------------------------\n",
      "Traceback (most recent call last):\n",
      "  File \"<ipython-input-37-548b8e48a80c>\", line 35, in test_str\n",
      "    self.assertEqual(str(a), \"000.1\")\n",
      "AssertionError: 'signed 000.10 max_val:3.75 min_val:-3.75' != '000.1'\n",
      "- signed 000.10 max_val:3.75 min_val:-3.75\n",
      "+ 000.1\n",
      "\n",
      "\n",
      "----------------------------------------------------------------------\n",
      "Ran 5 tests in 0.011s\n",
      "\n",
      "FAILED (failures=3)\n"
     ]
    }
   ],
   "source": [
    "import unittest\n",
    "\n",
    "class TestFixedPoint(unittest.TestCase):\n",
    "    \n",
    "    def test_subtraction(self):\n",
    "        a = FixedPoint(0.5, (3, 2))\n",
    "        b = FixedPoint(-0.75, (3, 2))\n",
    "        c = a - b\n",
    "        self.assertEqual(c.value, 1.25)\n",
    "        self.assertEqual(c.precision, (3, 2))\n",
    "        \n",
    "    def test_multiplication(self):\n",
    "        a = FixedPoint(0.5, (3, 2))\n",
    "        b = FixedPoint(-0.75, (3, 2))\n",
    "        c = a * b\n",
    "        self.assertEqual(c.value, -0.375)\n",
    "        self.assertEqual(c.precision, (6, 4))\n",
    "        \n",
    "    def test_division(self):\n",
    "        a = FixedPoint(0.5, (3, 2))\n",
    "        b = FixedPoint(-0.75, (3, 2))\n",
    "        c = a / b\n",
    "        self.assertEqual(c.value, -0.6666666666666666)\n",
    "        self.assertEqual(c.precision, (3, 0))\n",
    "        \n",
    "    def test_equal(self):\n",
    "        a = FixedPoint(0.5, (3, 3))\n",
    "        b = FixedPoint(0.5, (3, 3))\n",
    "        c = FixedPoint(0.6, (3, 3))\n",
    "        self.assertEqual(a, b)\n",
    "        self.assertNotEqual(a, c)\n",
    "        \n",
    "    def test_str(self):\n",
    "        a = FixedPoint(0.5, (3, 2))\n",
    "        self.assertEqual(str(a), \"000.1\")\n",
    "\n",
    "runner = unittest.TextTestRunner()\n",
    "result = runner.run(unittest.makeSuite(TestFixedPoint))\n",
    "print(result)\n"
   ]
  },
  {
   "cell_type": "code",
   "execution_count": null,
   "metadata": {},
   "outputs": [],
   "source": []
  }
 ],
 "metadata": {
  "kernelspec": {
   "display_name": "Python 3",
   "language": "python",
   "name": "python3"
  },
  "language_info": {
   "codemirror_mode": {
    "name": "ipython",
    "version": 3
   },
   "file_extension": ".py",
   "mimetype": "text/x-python",
   "name": "python",
   "nbconvert_exporter": "python",
   "pygments_lexer": "ipython3",
   "version": "3.8.10"
  },
  "orig_nbformat": 4
 },
 "nbformat": 4,
 "nbformat_minor": 2
}
